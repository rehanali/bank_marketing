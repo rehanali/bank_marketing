{
 "cells": [
  {
   "cell_type": "markdown",
   "metadata": {},
   "source": [
    "# Bank Marketing\n",
    "\n",
    "The data is related with direct marketing campaigns of a Portuguese banking institution.The marketing campaigns were based on phone calls. Often, more than one contact to the same client was required,in order to access if the product (bank term deposit) would be (or not) subscribed.\n",
    "\n",
    "The classification goal is to predict if the client will subscribe a term deposit (variable y).\n",
    "\n",
    "\n",
    "## Attribute Information:\n",
    "\n",
    "### Dank client data:\n",
    "- age (numeric)\n",
    "- job : type of job (categorical: 'admin.','blue-collar','entrepreneur','housemaid','management','retired','self-employed','services','student','technician','unemployed','unknown')\n",
    "- marital : marital status (categorical: 'divorced','married','single','unknown'; note: 'divorced' means divorced or widowed)\n",
    "- education (categorical: 'basic.4y','basic.6y','basic.9y','high.school','illiterate','professional.course','university.degree','unknown')\n",
    "- default: has credit in default? (categorical: 'no','yes','unknown')\n",
    "- balance: average yearly balance, in euros (numeric)\n",
    "- housing: has housing loan? (categorical: 'no','yes','unknown')\n",
    "- loan: has personal loan? (categorical: 'no','yes','unknown')\n",
    "\n",
    "### Related with the last contact of the current campaign:\n",
    "- contact: contact communication type (categorical: 'cellular','telephone') \n",
    "- month: last contact month of year (categorical: 'jan', 'feb', 'mar', ..., 'nov', 'dec')\n",
    "- day_of_week: last contact day of the week (categorical: 'mon','tue','wed','thu','fri')\n",
    "- duration: last contact duration, in seconds (numeric). Important note: this attribute highly affects the output target (e.g., if duration=0 then y='no'). Yet, the duration is not known before a call is performed. Also, after the end of the call y is obviously known. Thus, this input should only be included for benchmark purposes and should be discarded if the intention is to have a realistic predictive model.\n",
    "\n",
    "### Other attributes:\n",
    "- campaign: number of contacts performed during this campaign and for this client (numeric, includes last contact)\n",
    "- pdays: number of days that passed by after the client was last contacted from a previous campaign (numeric; 999 means client was not previously contacted)\n",
    "- previous: number of contacts performed before this campaign and for this client (numeric)\n",
    "- poutcome: outcome of the previous marketing campaign (categorical: 'failure','nonexistent','success')\n",
    "\n",
    "### Output variable (target):\n",
    "- y - has the client subscribed a term deposit? (binary: 'yes','no')"
   ]
  },
  {
   "cell_type": "code",
   "execution_count": 1,
   "metadata": {},
   "outputs": [
    {
     "name": "stderr",
     "output_type": "stream",
     "text": [
      "C:\\Users\\RAA090\\AppData\\Local\\conda\\conda\\envs\\smarter_reefer\\lib\\site-packages\\sklearn\\cross_validation.py:41: DeprecationWarning: This module was deprecated in version 0.18 in favor of the model_selection module into which all the refactored classes and functions are moved. Also note that the interface of the new CV iterators are different from that of this module. This module will be removed in 0.20.\n",
      "  \"This module will be removed in 0.20.\", DeprecationWarning)\n"
     ]
    }
   ],
   "source": [
    "%matplotlib inline\n",
    "import pandas as pd\n",
    "import numpy as np\n",
    "import matplotlib.pyplot as plt\n",
    "import seaborn as sns\n",
    "from sklearn.preprocessing import OneHotEncoder\n",
    "from sklearn.cross_validation import train_test_split\n",
    "from sklearn.ensemble import RandomForestClassifier\n",
    "from sklearn.ensemble import GradientBoostingClassifier\n",
    "from sklearn.linear_model import LogisticRegression\n",
    "from sklearn.model_selection import StratifiedKFold\n",
    "from sklearn.feature_selection import RFECV\n",
    "from sklearn import metrics\n",
    "from sklearn.cross_validation import cross_val_score\n",
    "from imblearn.over_sampling import SMOTE\n",
    "from imblearn.under_sampling import RandomUnderSampler\n",
    "from sklearn.metrics import (cohen_kappa_score,make_scorer,f1_score,precision_score,recall_score,accuracy_score)\n",
    "from sklearn.metrics import confusion_matrix"
   ]
  },
  {
   "cell_type": "code",
   "execution_count": null,
   "metadata": {
    "collapsed": true
   },
   "outputs": [],
   "source": []
  },
  {
   "cell_type": "code",
   "execution_count": 2,
   "metadata": {
    "collapsed": true
   },
   "outputs": [],
   "source": [
    "# Loading data\n",
    "bank_data = pd.read_csv('C:/Users/RAA090/Documents/Personal/data_sets/Bank Marketing Data Set/bank/bank-full.csv')\n"
   ]
  },
  {
   "cell_type": "code",
   "execution_count": 3,
   "metadata": {},
   "outputs": [
    {
     "name": "stdout",
     "output_type": "stream",
     "text": [
      "(45211, 17)\n"
     ]
    }
   ],
   "source": [
    "# Dimensions of data\n",
    "print(bank_data.shape)"
   ]
  },
  {
   "cell_type": "code",
   "execution_count": 4,
   "metadata": {
    "scrolled": true
   },
   "outputs": [
    {
     "data": {
      "text/html": [
       "<div>\n",
       "<style scoped>\n",
       "    .dataframe tbody tr th:only-of-type {\n",
       "        vertical-align: middle;\n",
       "    }\n",
       "\n",
       "    .dataframe tbody tr th {\n",
       "        vertical-align: top;\n",
       "    }\n",
       "\n",
       "    .dataframe thead th {\n",
       "        text-align: right;\n",
       "    }\n",
       "</style>\n",
       "<table border=\"1\" class=\"dataframe\">\n",
       "  <thead>\n",
       "    <tr style=\"text-align: right;\">\n",
       "      <th></th>\n",
       "      <th>age</th>\n",
       "      <th>job</th>\n",
       "      <th>marital</th>\n",
       "      <th>education</th>\n",
       "      <th>default</th>\n",
       "      <th>balance</th>\n",
       "      <th>housing</th>\n",
       "      <th>loan</th>\n",
       "      <th>contact</th>\n",
       "      <th>day</th>\n",
       "      <th>month</th>\n",
       "      <th>duration</th>\n",
       "      <th>campaign</th>\n",
       "      <th>pdays</th>\n",
       "      <th>previous</th>\n",
       "      <th>poutcome</th>\n",
       "      <th>y</th>\n",
       "    </tr>\n",
       "  </thead>\n",
       "  <tbody>\n",
       "    <tr>\n",
       "      <th>0</th>\n",
       "      <td>58</td>\n",
       "      <td>management</td>\n",
       "      <td>married</td>\n",
       "      <td>tertiary</td>\n",
       "      <td>no</td>\n",
       "      <td>2143</td>\n",
       "      <td>yes</td>\n",
       "      <td>no</td>\n",
       "      <td>unknown</td>\n",
       "      <td>5</td>\n",
       "      <td>may</td>\n",
       "      <td>261</td>\n",
       "      <td>1</td>\n",
       "      <td>-1</td>\n",
       "      <td>0</td>\n",
       "      <td>unknown</td>\n",
       "      <td>no</td>\n",
       "    </tr>\n",
       "    <tr>\n",
       "      <th>1</th>\n",
       "      <td>44</td>\n",
       "      <td>technician</td>\n",
       "      <td>single</td>\n",
       "      <td>secondary</td>\n",
       "      <td>no</td>\n",
       "      <td>29</td>\n",
       "      <td>yes</td>\n",
       "      <td>no</td>\n",
       "      <td>unknown</td>\n",
       "      <td>5</td>\n",
       "      <td>may</td>\n",
       "      <td>151</td>\n",
       "      <td>1</td>\n",
       "      <td>-1</td>\n",
       "      <td>0</td>\n",
       "      <td>unknown</td>\n",
       "      <td>no</td>\n",
       "    </tr>\n",
       "    <tr>\n",
       "      <th>2</th>\n",
       "      <td>33</td>\n",
       "      <td>entrepreneur</td>\n",
       "      <td>married</td>\n",
       "      <td>secondary</td>\n",
       "      <td>no</td>\n",
       "      <td>2</td>\n",
       "      <td>yes</td>\n",
       "      <td>yes</td>\n",
       "      <td>unknown</td>\n",
       "      <td>5</td>\n",
       "      <td>may</td>\n",
       "      <td>76</td>\n",
       "      <td>1</td>\n",
       "      <td>-1</td>\n",
       "      <td>0</td>\n",
       "      <td>unknown</td>\n",
       "      <td>no</td>\n",
       "    </tr>\n",
       "    <tr>\n",
       "      <th>3</th>\n",
       "      <td>47</td>\n",
       "      <td>blue-collar</td>\n",
       "      <td>married</td>\n",
       "      <td>unknown</td>\n",
       "      <td>no</td>\n",
       "      <td>1506</td>\n",
       "      <td>yes</td>\n",
       "      <td>no</td>\n",
       "      <td>unknown</td>\n",
       "      <td>5</td>\n",
       "      <td>may</td>\n",
       "      <td>92</td>\n",
       "      <td>1</td>\n",
       "      <td>-1</td>\n",
       "      <td>0</td>\n",
       "      <td>unknown</td>\n",
       "      <td>no</td>\n",
       "    </tr>\n",
       "    <tr>\n",
       "      <th>4</th>\n",
       "      <td>33</td>\n",
       "      <td>unknown</td>\n",
       "      <td>single</td>\n",
       "      <td>unknown</td>\n",
       "      <td>no</td>\n",
       "      <td>1</td>\n",
       "      <td>no</td>\n",
       "      <td>no</td>\n",
       "      <td>unknown</td>\n",
       "      <td>5</td>\n",
       "      <td>may</td>\n",
       "      <td>198</td>\n",
       "      <td>1</td>\n",
       "      <td>-1</td>\n",
       "      <td>0</td>\n",
       "      <td>unknown</td>\n",
       "      <td>no</td>\n",
       "    </tr>\n",
       "  </tbody>\n",
       "</table>\n",
       "</div>"
      ],
      "text/plain": [
       "   age           job  marital  education default  balance housing loan  \\\n",
       "0   58    management  married   tertiary      no     2143     yes   no   \n",
       "1   44    technician   single  secondary      no       29     yes   no   \n",
       "2   33  entrepreneur  married  secondary      no        2     yes  yes   \n",
       "3   47   blue-collar  married    unknown      no     1506     yes   no   \n",
       "4   33       unknown   single    unknown      no        1      no   no   \n",
       "\n",
       "   contact  day month  duration  campaign  pdays  previous poutcome   y  \n",
       "0  unknown    5   may       261         1     -1         0  unknown  no  \n",
       "1  unknown    5   may       151         1     -1         0  unknown  no  \n",
       "2  unknown    5   may        76         1     -1         0  unknown  no  \n",
       "3  unknown    5   may        92         1     -1         0  unknown  no  \n",
       "4  unknown    5   may       198         1     -1         0  unknown  no  "
      ]
     },
     "execution_count": 4,
     "metadata": {},
     "output_type": "execute_result"
    }
   ],
   "source": [
    "# Seeing top 5 records of data\n",
    "bank_data.head()"
   ]
  },
  {
   "cell_type": "code",
   "execution_count": 5,
   "metadata": {
    "collapsed": true
   },
   "outputs": [],
   "source": [
    "bank_data.drop([\"duration\"],axis=1,inplace=True)"
   ]
  },
  {
   "cell_type": "code",
   "execution_count": 6,
   "metadata": {},
   "outputs": [
    {
     "data": {
      "text/plain": [
       "age           int64\n",
       "job          object\n",
       "marital      object\n",
       "education    object\n",
       "default      object\n",
       "balance       int64\n",
       "housing      object\n",
       "loan         object\n",
       "contact      object\n",
       "day           int64\n",
       "month        object\n",
       "campaign      int64\n",
       "pdays         int64\n",
       "previous      int64\n",
       "poutcome     object\n",
       "y            object\n",
       "dtype: object"
      ]
     },
     "execution_count": 6,
     "metadata": {},
     "output_type": "execute_result"
    }
   ],
   "source": [
    "bank_data.dtypes"
   ]
  },
  {
   "cell_type": "code",
   "execution_count": 7,
   "metadata": {
    "collapsed": true
   },
   "outputs": [],
   "source": [
    "categorical_vars = [\"marital\",\"job\",\"contact\",\"education\",\"month\",\"poutcome\",\"housing\",\"loan\",\"default\"]"
   ]
  },
  {
   "cell_type": "code",
   "execution_count": 8,
   "metadata": {
    "collapsed": true
   },
   "outputs": [],
   "source": [
    "numeric_vars = [\"age\",\"balance\",\"day\",\"campaign\",\"pdays\",\"previous\"]"
   ]
  },
  {
   "cell_type": "code",
   "execution_count": 9,
   "metadata": {
    "collapsed": true
   },
   "outputs": [],
   "source": [
    "bank_data[numeric_vars] = bank_data[numeric_vars].astype('int')"
   ]
  },
  {
   "cell_type": "code",
   "execution_count": null,
   "metadata": {
    "collapsed": true
   },
   "outputs": [],
   "source": []
  },
  {
   "cell_type": "markdown",
   "metadata": {},
   "source": [
    "## Missing value"
   ]
  },
  {
   "cell_type": "code",
   "execution_count": 10,
   "metadata": {},
   "outputs": [
    {
     "data": {
      "text/plain": [
       "age          0\n",
       "job          0\n",
       "marital      0\n",
       "education    0\n",
       "default      0\n",
       "balance      0\n",
       "housing      0\n",
       "loan         0\n",
       "contact      0\n",
       "day          0\n",
       "month        0\n",
       "campaign     0\n",
       "pdays        0\n",
       "previous     0\n",
       "poutcome     0\n",
       "y            0\n",
       "dtype: int64"
      ]
     },
     "execution_count": 10,
     "metadata": {},
     "output_type": "execute_result"
    }
   ],
   "source": [
    "bank_data.isna().sum()"
   ]
  },
  {
   "cell_type": "code",
   "execution_count": 11,
   "metadata": {},
   "outputs": [
    {
     "data": {
      "text/plain": [
       "age         0\n",
       "balance     0\n",
       "day         0\n",
       "campaign    0\n",
       "pdays       0\n",
       "previous    0\n",
       "dtype: int64"
      ]
     },
     "execution_count": 11,
     "metadata": {},
     "output_type": "execute_result"
    }
   ],
   "source": [
    "np.isnan(bank_data[numeric_vars]).sum()"
   ]
  },
  {
   "cell_type": "markdown",
   "metadata": {},
   "source": [
    "# Exploratory analysis"
   ]
  },
  {
   "cell_type": "code",
   "execution_count": 12,
   "metadata": {
    "scrolled": true
   },
   "outputs": [
    {
     "data": {
      "image/png": "[encoded data removed]",
      "text/plain": [
       "<matplotlib.figure.Figure at 0x1da541e3390>"
      ]
     },
     "metadata": {},
     "output_type": "display_data"
    }
   ],
   "source": [
    "fig1,ax1 = plt.subplots(figsize=(6, 6))\n",
    "ax1.pie(x=bank_data.y.value_counts().values ,labels= bank_data.y.value_counts().index, autopct='%.2f' )\n",
    "plt.show()"
   ]
  },
  {
   "cell_type": "code",
   "execution_count": 13,
   "metadata": {},
   "outputs": [
    {
     "data": {
      "text/plain": [
       "['age', 'balance', 'day', 'campaign', 'pdays', 'previous', 'y']"
      ]
     },
     "execution_count": 13,
     "metadata": {},
     "output_type": "execute_result"
    }
   ],
   "source": [
    "numeric_vars + ['y']"
   ]
  },
  {
   "cell_type": "code",
   "execution_count": 14,
   "metadata": {
    "scrolled": false
   },
   "outputs": [
    {
     "data": {
      "text/plain": [
       "Text(0.5,0.98,'Age')"
      ]
     },
     "execution_count": 14,
     "metadata": {},
     "output_type": "execute_result"
    },
    {
     "data": {
      "image/png": "[encoded data removed]",
      "text/plain": [
       "<matplotlib.figure.Figure at 0x1da551f5c18>"
      ]
     },
     "metadata": {},
     "output_type": "display_data"
    }
   ],
   "source": [
    "fig = sns.FacetGrid(bank_data[numeric_vars + ['y']], hue='y', aspect=4) \n",
    "fig.map(sns.kdeplot,'age',shade=True)\n",
    "# max_x = df.station_avg_temp_c.max()\n",
    "fig.set(xlim=(20,100))\n",
    "fig.add_legend()\n",
    "fig.fig.suptitle(\"Age\")"
   ]
  },
  {
   "cell_type": "code",
   "execution_count": 15,
   "metadata": {
    "scrolled": false
   },
   "outputs": [
    {
     "data": {
      "text/plain": [
       "Text(0.5,0.98,'Age')"
      ]
     },
     "execution_count": 15,
     "metadata": {},
     "output_type": "execute_result"
    },
    {
     "data": {
      "image/png": "[encoded data removed]",
      "text/plain": [
       "<matplotlib.figure.Figure at 0x1da552826d8>"
      ]
     },
     "metadata": {},
     "output_type": "display_data"
    }
   ],
   "source": [
    "fig = sns.FacetGrid(bank_data[numeric_vars + ['y']], hue='y', aspect=4) \n",
    "fig.map(sns.kdeplot,'pdays',shade=True)\n",
    "# max_x = df.station_avg_temp_c.max()\n",
    "fig.set(xlim=(20,100))\n",
    "fig.add_legend()\n",
    "fig.fig.suptitle(\"Age\")"
   ]
  },
  {
   "cell_type": "code",
   "execution_count": 16,
   "metadata": {},
   "outputs": [
    {
     "data": {
      "text/plain": [
       "<matplotlib.axes._subplots.AxesSubplot at 0x1da55d12c18>"
      ]
     },
     "execution_count": 16,
     "metadata": {},
     "output_type": "execute_result"
    },
    {
     "data": {
      "image/png": "[encoded data removed]",
      "text/plain": [
       "<matplotlib.figure.Figure at 0x1da541e3518>"
      ]
     },
     "metadata": {},
     "output_type": "display_data"
    }
   ],
   "source": [
    "bank_data.boxplot(column=['balance'],by='y')"
   ]
  },
  {
   "cell_type": "markdown",
   "metadata": {},
   "source": [
    "# Feature engineering"
   ]
  },
  {
   "cell_type": "code",
   "execution_count": null,
   "metadata": {
    "collapsed": true
   },
   "outputs": [],
   "source": []
  },
  {
   "cell_type": "code",
   "execution_count": null,
   "metadata": {
    "collapsed": true
   },
   "outputs": [],
   "source": []
  },
  {
   "cell_type": "markdown",
   "metadata": {},
   "source": [
    "# Model building validation and performance"
   ]
  },
  {
   "cell_type": "code",
   "execution_count": 17,
   "metadata": {
    "collapsed": true
   },
   "outputs": [],
   "source": [
    "X_dummies = pd.get_dummies(bank_data[categorical_vars])"
   ]
  },
  {
   "cell_type": "code",
   "execution_count": 18,
   "metadata": {
    "collapsed": true
   },
   "outputs": [],
   "source": [
    "bank_data_with_dummies = pd.concat([bank_data[numeric_vars],X_dummies,bank_data[['y']]],axis=1)"
   ]
  },
  {
   "cell_type": "code",
   "execution_count": 19,
   "metadata": {
    "collapsed": true
   },
   "outputs": [],
   "source": [
    "selected_faettures = [col for col in bank_data_with_dummies.columns if col != 'y' ]"
   ]
  },
  {
   "cell_type": "code",
   "execution_count": 20,
   "metadata": {
    "collapsed": true
   },
   "outputs": [],
   "source": [
    "X = bank_data_with_dummies[selected_faettures]"
   ]
  },
  {
   "cell_type": "code",
   "execution_count": 21,
   "metadata": {
    "collapsed": true
   },
   "outputs": [],
   "source": [
    "y = bank_data_with_dummies['y'].map({'yes':1, 'no': 0})"
   ]
  },
  {
   "cell_type": "code",
   "execution_count": 22,
   "metadata": {
    "collapsed": true
   },
   "outputs": [],
   "source": [
    "X_train, X_test, y_train, y_test = train_test_split(X,y , test_size=0.33, random_state=42)"
   ]
  },
  {
   "cell_type": "markdown",
   "metadata": {},
   "source": [
    "## Downsampling"
   ]
  },
  {
   "cell_type": "code",
   "execution_count": 23,
   "metadata": {
    "collapsed": true
   },
   "outputs": [],
   "source": [
    "X_train_down_sampled, y_train_down_sampled = RandomUnderSampler(random_state = 12).fit_sample(X_train, y_train)"
   ]
  },
  {
   "cell_type": "markdown",
   "metadata": {},
   "source": [
    "## Over sampling"
   ]
  },
  {
   "cell_type": "code",
   "execution_count": 24,
   "metadata": {
    "collapsed": true,
    "scrolled": true
   },
   "outputs": [],
   "source": [
    "X_train_over_sampled, y_train_over_sampled = SMOTE(random_state = 12,ratio={0:26747, 1:11463}).fit_sample(X_train, y_train)"
   ]
  },
  {
   "cell_type": "code",
   "execution_count": 29,
   "metadata": {
    "collapsed": true
   },
   "outputs": [],
   "source": [
    "logit = LogisticRegression()\n",
    "rf = RandomForestClassifier()\n",
    "gbm = GradientBoostingClassifier()"
   ]
  },
  {
   "cell_type": "code",
   "execution_count": 37,
   "metadata": {},
   "outputs": [],
   "source": [
    "def modelfit(algo, train_x,train_y,test_x,test_y, num_fold,model_name):\n",
    "    \n",
    "    model = algo.fit(train_x,train_y)\n",
    "    ## probability prediction\n",
    "    predicted_proba  = model.predict_proba(test_x)\n",
    "    predicted_proba = pd.DataFrame(predicted_proba.tolist()).iloc[:,1]\n",
    "    \n",
    "    ## cross validation scorer with stratified folds\n",
    "    strat_k_fold = strat_k_fold = StratifiedKFold(n_splits=3,random_state= 10).get_n_splits(X=train_x,y=y_train)\n",
    "    ## cv score\n",
    "    cv_scores_kappa = cross_val_score(model,train_x,train_y,cv=strat_k_fold,scoring=make_scorer(cohen_kappa_score))\n",
    "    cv_scores_accuracy = cross_val_score(model,train_x,train_y,cv=strat_k_fold,scoring=make_scorer(accuracy_score))\n",
    "    cv_scores_f1 = cross_val_score(model,train_x,train_y,cv=strat_k_fold,scoring=make_scorer(f1_score))\n",
    "    \n",
    "    ## feature importances\n",
    "    if(model_name == \"logistic\"):\n",
    "        importances = model.coef_\n",
    "        importances = importances[0]\n",
    "    else:\n",
    "        importances = model.feature_importances_\n",
    "\n",
    "    \n",
    "    \n",
    "    ## Recursive feature selection with cross validation\n",
    "    rfecv = RFECV(estimator=model, step=2, cv=StratifiedKFold(n_splits=num_fold).split(train_x, train_y),\n",
    "              scoring= make_scorer(cohen_kappa_score) )\n",
    "    rfecv.fit(train_x, train_y)\n",
    "    rfecv_num_features = rfecv.n_features_\n",
    "    rfecv_ranking = rfecv.ranking_ \n",
    "    rfecv_support = rfecv.support_\n",
    "    rfecv_grid_scores = rfecv.grid_scores_\n",
    "    ## rfecv plot\n",
    "    rfecv_fig, rfecv_ax = plt.subplots()\n",
    "    rfecv_ax.set_title(model_name +'_' +str(rfecv.n_features_))\n",
    "    rfecv_ax.set_xlabel(\"Number of features selected\")\n",
    "    rfecv_ax.set_ylabel(\"Cross validation score (nb of correct classifications)\")\n",
    "    rfecv_ax.plot(range(1, len(rfecv.grid_scores_) + 1), rfecv.grid_scores_)\n",
    "    \n",
    "    \n",
    "    feature_imp_temp = pd.DataFrame({model_name:importances})\n",
    "    cv_scores_temp = pd.DataFrame({'cv_scores_accuracy':cv_scores_accuracy,'cv_scores_kappa':cv_scores_kappa,'model_name':model_name})\n",
    "    rfecv_temp = pd.DataFrame({ model_name + \"_support\":rfecv_support,model_name + \"_ranking\":rfecv_ranking})\n",
    "    rfecv_grid_scores_temp = pd.DataFrame({model_name:rfecv_grid_scores})\n",
    "    predicted_proba_temp = pd.DataFrame({model_name: predicted_proba})\n",
    "    \n",
    "    metrics_df = pd.DataFrame()\n",
    "    for threshold in np.arange(0,1.1,.1):\n",
    "        p_label = [1 if  x > threshold else 0 for x in predicted_proba]\n",
    "        kappa = cohen_kappa_score(test_y,p_label)\n",
    "        f1 = f1_score(y_pred=p_label,y_true=test_y)\n",
    "        precision = precision_score(y_pred=p_label,y_true=test_y)\n",
    "        recall = recall_score(y_pred=p_label,y_true=test_y)\n",
    "\n",
    "        ## confusion matrix\n",
    "        confusion_matrix1 = pd.DataFrame(confusion_matrix(y_true=test_y,y_pred=p_label))\n",
    "        _0_0 = confusion_matrix1.iloc[0,0]\n",
    "        _0_1 = confusion_matrix1.iloc[0,1]\n",
    "        _1_0 = confusion_matrix1.iloc[1,0]\n",
    "        _1_1 = confusion_matrix1.iloc[1,1]\n",
    "    \n",
    "        temp = pd.DataFrame({'threshold': threshold,'kappa':kappa,'f1': f1,'precision':precision,'recall':recall,'_0_0':_0_0,\n",
    "                                '_0_1':_0_1,'_1_0':_1_0,'_1_1':_1_1},index= [model_name])\n",
    "        metrics_df = metrics_df.append(temp)\n",
    "        return {'metrics':metrics_df,'feature':feature_imp_temp}"
   ]
  },
  {
   "cell_type": "code",
   "execution_count": 38,
   "metadata": {},
   "outputs": [
    {
     "data": {
      "text/plain": [
       "{'feature':     random_forest\n",
       " 0        0.133118\n",
       " 1        0.144221\n",
       " 2        0.112868\n",
       " 3        0.062835\n",
       " 4        0.031631\n",
       " 5        0.021526\n",
       " 6        0.010358\n",
       " 7        0.017748\n",
       " 8        0.015378\n",
       " 9        0.013422\n",
       " 10       0.012632\n",
       " 11       0.006520\n",
       " 12       0.003840\n",
       " 13       0.015090\n",
       " 14       0.006451\n",
       " 15       0.007256\n",
       " 16       0.011654\n",
       " 17       0.003663\n",
       " 18       0.014006\n",
       " 19       0.006233\n",
       " 20       0.001510\n",
       " 21       0.015732\n",
       " 22       0.005448\n",
       " 23       0.032484\n",
       " 24       0.011264\n",
       " 25       0.014176\n",
       " 26       0.015414\n",
       " 27       0.006156\n",
       " 28       0.012097\n",
       " 29       0.011357\n",
       " 30       0.002441\n",
       " 31       0.008209\n",
       " 32       0.007240\n",
       " 33       0.012348\n",
       " 34       0.009978\n",
       " 35       0.008192\n",
       " 36       0.014645\n",
       " 37       0.012256\n",
       " 38       0.010444\n",
       " 39       0.004980\n",
       " 40       0.009037\n",
       " 41       0.005135\n",
       " 42       0.033392\n",
       " 43       0.016185\n",
       " 44       0.015818\n",
       " 45       0.027826\n",
       " 46       0.008786\n",
       " 47       0.012825\n",
       " 48       0.001863\n",
       " 49       0.002311,\n",
       " 'metrics':                _0_0   _0_1  _1_0  _1_1        f1     kappa  precision  \\\n",
       " random_forest   831  12344    33  1712  0.216695  0.010877   0.121799   \n",
       " \n",
       "                  recall  threshold  \n",
       " random_forest  0.981089        0.0  }"
      ]
     },
     "execution_count": 38,
     "metadata": {},
     "output_type": "execute_result"
    },
    {
     "data": {
      "image/png": "[encoded data removed]",
      "text/plain": [
       "<matplotlib.figure.Figure at 0x1da586d9240>"
      ]
     },
     "metadata": {},
     "output_type": "display_data"
    }
   ],
   "source": [
    "modelfit(algo=rf,model_name=\"random_forest\",num_fold=3,test_x=X_test,test_y=y_test,train_x=X_train_down_sampled,train_y=y_train_down_sampled)"
   ]
  },
  {
   "cell_type": "code",
   "execution_count": null,
   "metadata": {
    "collapsed": true
   },
   "outputs": [],
   "source": [
    "#     feature_imp_df = pd.concat([feature_imp_temp,feature_imp_df],axis=1)\n",
    "#     cv_scores_df = cv_scores_df.append(cv_scores_temp,)\n",
    "#     rfecv_df = pd.concat([rfecv_temp,rfecv_df],axis=1)\n",
    "#     rfecv_grid_scores_df = pd.concat([rfecv_grid_scores_temp,rfecv_grid_scores_df],axis=1)\n",
    "#     predicted_proba_df = pd.concat([predicted_proba_temp,predicted_proba_df],axis=1)"
   ]
  },
  {
   "cell_type": "code",
   "execution_count": 249,
   "metadata": {
    "collapsed": true
   },
   "outputs": [],
   "source": [
    "# logit = LogisticRegression()\n",
    "# rf = RandomForestClassifier()\n",
    "# gbm = GradientBoostingClassifier()\n",
    "\n",
    "# train_x = X_train\n",
    "# train_y = y_train\n",
    "# test_x = X_test\n",
    "# test_y = y_test\n",
    "\n",
    "# model_name = 'logistic'\n",
    "\n",
    "# model = logit.fit(train_x,train_y)\n",
    "# ## probability prediction\n",
    "\n",
    "# predicted_proba  = model.predict_proba(test_x)\n",
    "# predicted_proba = pd.DataFrame(predicted_proba.tolist()).iloc[:,1]\n",
    "\n",
    "# ## cross validation scorer with stratified folds\n",
    "# strat_k_fold = strat_k_fold = StratifiedKFold(n_splits=3,random_state= 10).get_n_splits(X=train_x,y=y_train)\n",
    "\n",
    "# ## cv score\n",
    "# cv_scores_kappa = cross_val_score(model,train_x, train_y, cv=strat_k_fold, scoring=make_scorer(cohen_kappa_score))\n",
    "\n",
    "# cv_scores_accuracy = cross_val_score(model,train_x,train_y,cv=strat_k_fold,scoring=make_scorer(accuracy_score))\n",
    "\n",
    "# cv_scores_f1 = cross_val_score(model, train_x, train_y, cv=strat_k_fold, scoring= make_scorer(f1_score) )\n",
    "\n",
    "\n",
    "\n",
    "# ## feature importances\n",
    "# if(model_name == \"logistic\"):\n",
    "#     importances = model.coef_\n",
    "#     importances = importances[0]\n",
    "# else:\n",
    "#     importances = model.feature_importances_\n",
    "\n",
    "# ## Recursive feature selection with cross validation\n",
    "# rfecv = RFECV(estimator=model, step=2, cv=StratifiedKFold(n_splits=4).split(train_x, train_y),\n",
    "#           scoring= make_scorer(cohen_kappa_score) )\n",
    "# rfecv.fit(train_x, train_y)\n",
    "# rfecv_num_features = rfecv.n_features_\n",
    "# rfecv_ranking = rfecv.ranking_ \n",
    "# rfecv_support = rfecv.support_\n",
    "# rfecv_grid_scores = rfecv.grid_scores_\n",
    "# ## rfecv plot\n",
    "# rfecv_fig, rfecv_ax = plt.subplots()\n",
    "# rfecv_ax.set_title(model_name +':Number of features ' +str(rfecv.n_features_))\n",
    "# rfecv_ax.set_xlabel(\"Number of features selected\")\n",
    "# rfecv_ax.set_ylabel(\"Cross validation score (nb of correct classifications)\")\n",
    "# rfecv_ax.plot(range(1, len(rfecv.grid_scores_) + 1), rfecv.grid_scores_)\n",
    "\n",
    "# feature_imp_temp = pd.DataFrame({model_name:importances})\n",
    "# cv_scores_temp = pd.DataFrame({'cv_scores_accuracy':cv_scores_accuracy,'cv_scores_kappa':cv_scores_kappa,'model_name':model_name})\n",
    "# rfecv_temp = pd.DataFrame({ model_name + \"_support\":rfecv_support,model_name + \"_ranking\":rfecv_ranking})\n",
    "# rfecv_grid_scores_temp = pd.DataFrame({model_name:rfecv_grid_scores})\n",
    "# predicted_proba_temp = pd.DataFrame({model_name: predicted_proba})\n",
    "\n",
    "# metrics_df = pd.DataFrame()\n",
    "# for threshold in np.arange(0,1.1,.1):\n",
    "#     p_label = [1 if  x > threshold else 0 for x in predicted_proba]\n",
    "#     kappa = cohen_kappa_score(test_y,p_label)\n",
    "#     f1 = f1_score(y_pred=p_label,y_true= test_y)\n",
    "#     precision = precision_score(y_pred=p_label,y_true= test_y)\n",
    "#     recall = recall_score(y_pred=p_label,y_true=test_y)\n",
    "\n",
    "#     ## confusion matrix\n",
    "#     confusion_matrix1 = pd.DataFrame(confusion_matrix(y_true=test_y,y_pred=p_label))        \n",
    "#     temp = pd.DataFrame({'threshold': threshold,'kappa':kappa,'f1': f1,'precision':precision,'recall':recall,'_0_0':_0_0,\n",
    "#                             '_0_1':_0_1,'_1_0':_1_0,'_1_1':_1_1},index= [col])\n",
    "#     metrics_df = metrics_df.append(temp)"
   ]
  },
  {
   "cell_type": "code",
   "execution_count": 300,
   "metadata": {},
   "outputs": [
    {
     "name": "stderr",
     "output_type": "stream",
     "text": [
      "C:\\Users\\RAA090\\AppData\\Local\\conda\\conda\\envs\\smarter_reefer\\lib\\site-packages\\sklearn\\metrics\\classification.py:1135: UndefinedMetricWarning: F-score is ill-defined and being set to 0.0 due to no predicted samples.\n",
      "  'precision', 'predicted', average, warn_for)\n",
      "C:\\Users\\RAA090\\AppData\\Local\\conda\\conda\\envs\\smarter_reefer\\lib\\site-packages\\sklearn\\metrics\\classification.py:1135: UndefinedMetricWarning: Precision is ill-defined and being set to 0.0 due to no predicted samples.\n",
      "  'precision', 'predicted', average, warn_for)\n"
     ]
    }
   ],
   "source": [
    "# for threshold in np.arange(0,1.1,.1):\n",
    "#     p_label = [1 if  x > threshold else 0 for x in predicted_proba]\n",
    "#     kappa = cohen_kappa_score(test_y,p_label)\n",
    "#     f1 = f1_score(y_pred=p_label,y_true=test_y)\n",
    "#     precision = precision_score(y_pred=p_label,y_true=test_y)\n",
    "#     recall = recall_score(y_pred=p_label,y_true=test_y)\n",
    "\n",
    "#     ## confusion matrix\n",
    "#     confusion_matrix1 = pd.DataFrame(confusion_matrix(y_true=test_y,y_pred=p_label))\n",
    "#     _0_0 = confusion_matrix1.iloc[0,0]\n",
    "#     _0_1 = confusion_matrix1.iloc[0,1]\n",
    "#     _1_0 = confusion_matrix1.iloc[1,0]\n",
    "#     _1_1 = confusion_matrix1.iloc[1,1]\n",
    "    \n",
    "    \n",
    "#     temp = pd.DataFrame({'threshold': threshold,'kappa':kappa,'f1': f1,'precision':precision,'recall':recall,'_0_0':_0_0,\n",
    "#                             '_0_1':_0_1,'_1_0':_1_0,'_1_1':_1_1},index= [model_name])\n",
    "#     metrics_df = metrics_df.append(temp)"
   ]
  },
  {
   "cell_type": "code",
   "execution_count": null,
   "metadata": {
    "collapsed": true
   },
   "outputs": [],
   "source": []
  },
  {
   "cell_type": "code",
   "execution_count": null,
   "metadata": {
    "collapsed": true
   },
   "outputs": [],
   "source": []
  },
  {
   "cell_type": "code",
   "execution_count": null,
   "metadata": {
    "collapsed": true
   },
   "outputs": [],
   "source": []
  }
 ],
 "metadata": {
  "kernelspec": {
   "display_name": "Python 3",
   "language": "python",
   "name": "python3"
  },
  "language_info": {
   "codemirror_mode": {
    "name": "ipython",
    "version": 3
   },
   "file_extension": ".py",
   "mimetype": "text/x-python",
   "name": "python",
   "nbconvert_exporter": "python",
   "pygments_lexer": "ipython3",
   "version": "3.6.2"
  }
 },
 "nbformat": 4,
 "nbformat_minor": 2
}
